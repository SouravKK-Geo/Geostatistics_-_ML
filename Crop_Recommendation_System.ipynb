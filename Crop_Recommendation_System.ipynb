{
  "nbformat": 4,
  "nbformat_minor": 0,
  "metadata": {
    "colab": {
      "provenance": [],
      "authorship_tag": "ABX9TyMok1RYxCuuVojosnWePFXm",
      "include_colab_link": true
    },
    "kernelspec": {
      "name": "python3",
      "display_name": "Python 3"
    },
    "language_info": {
      "name": "python"
    }
  },
  "cells": [
    {
      "cell_type": "markdown",
      "metadata": {
        "id": "view-in-github",
        "colab_type": "text"
      },
      "source": [
        "<a href=\"https://colab.research.google.com/github/SouravKK-Geo/Geostatistics_-_ML/blob/main/Crop_Recommendation_System.ipynb\" target=\"_parent\"><img src=\"https://colab.research.google.com/assets/colab-badge.svg\" alt=\"Open In Colab\"/></a>"
      ]
    },
    {
      "cell_type": "code",
      "execution_count": null,
      "metadata": {
        "id": "hMC4rnIfUiSl"
      },
      "outputs": [],
      "source": [
        "#Importing Required Libraries"
      ]
    },
    {
      "cell_type": "code",
      "source": [
        "#  Naive Bayes Classification with Scikit-Learn Pipeline\n",
        "# This section imports all the necessary libraries for data preprocessing, modeling, evaluation, and visualization.\n",
        "\n",
        "# Importing pandas for data manipulation\n",
        "import pandas as pd\n",
        "\n",
        "# Importing matplotlib and seaborn for data visualization\n",
        "import matplotlib.pyplot as plt\n",
        "import seaborn as sns\n",
        "\n",
        "# Importing functions for splitting the dataset\n",
        "from sklearn.model_selection import train_test_split\n",
        "\n",
        "# Importing preprocessing tools\n",
        "from sklearn.preprocessing import LabelEncoder, StandardScaler, MinMaxScaler\n",
        "\n",
        "# Importing different types of Naive Bayes classifiers\n",
        "from sklearn.naive_bayes import GaussianNB, BernoulliNB, MultinomialNB\n",
        "\n",
        "# Importing evaluation metrics\n",
        "from sklearn.metrics import accuracy_score, classification_report, confusion_matrix\n",
        "\n",
        "# Importing pipeline to streamline preprocessing and modeling steps\n",
        "from sklearn.pipeline import Pipeline"
      ],
      "metadata": {
        "id": "ISD9MuX8Un5u"
      },
      "execution_count": 1,
      "outputs": []
    },
    {
      "cell_type": "code",
      "source": [
        "#Load the Dataset"
      ],
      "metadata": {
        "id": "j2wtmc8QUwf2"
      },
      "execution_count": null,
      "outputs": []
    },
    {
      "cell_type": "code",
      "source": [
        "# Loading the crop recommendation dataset using pandas\n",
        "#df = pd.read_csv(\"Crop_recommendation.csv\")\n",
        "\n",
        "# Display the first few rows of the dataset to understand its structure\n",
        "df"
      ],
      "metadata": {
        "id": "GgefgzR8U3fG"
      },
      "execution_count": null,
      "outputs": []
    },
    {
      "cell_type": "code",
      "source": [
        "#Dataset Information"
      ],
      "metadata": {
        "id": "kWIMKQp9U8wu"
      },
      "execution_count": null,
      "outputs": []
    },
    {
      "cell_type": "code",
      "source": [
        "# Display basic information about the dataset including column names, non-null values, and data types\n",
        "df.info()"
      ],
      "metadata": {
        "id": "hzZ6W2-CVJlv"
      },
      "execution_count": null,
      "outputs": []
    },
    {
      "cell_type": "code",
      "source": [
        "#Split Features and Target"
      ],
      "metadata": {
        "id": "aL8cpGqqVKfW"
      },
      "execution_count": null,
      "outputs": []
    },
    {
      "cell_type": "code",
      "source": [
        "# Separating the dataset into features (X) and target variable (y)\n",
        "\n",
        "X = df.drop(\"label\", axis=1)  # Features: All columns except 'label'\n",
        "y = df[\"label\"]               # Target: Crop label"
      ],
      "metadata": {
        "id": "26m3Km19VOZl"
      },
      "execution_count": null,
      "outputs": []
    },
    {
      "cell_type": "code",
      "source": [
        "# Train-Test Split"
      ],
      "metadata": {
        "id": "PJF_zxD_VQ1V"
      },
      "execution_count": null,
      "outputs": []
    },
    {
      "cell_type": "code",
      "source": [
        "# Splitting the dataset into training and testing sets\n",
        "# 80% of the data is used for training, and 20% for testing\n",
        "\n",
        "X_train, X_test, y_train, y_test = train_test_split(X, y, test_size=0.2, random_state=42)"
      ],
      "metadata": {
        "id": "aM4oVbyIVS-W"
      },
      "execution_count": null,
      "outputs": []
    },
    {
      "cell_type": "code",
      "source": [
        "#Compare Accuracy of All Naive Bayes Models"
      ],
      "metadata": {
        "id": "j0fs3n19VV8e"
      },
      "execution_count": null,
      "outputs": []
    },
    {
      "cell_type": "code",
      "source": [
        "# Dictionary of different Naive Bayes models\n",
        "process = {\n",
        "    \"GaussianNB\": GaussianNB(),\n",
        "    \"MultinomialNB\": MultinomialNB(),\n",
        "    \"BernoulliNB\": BernoulliNB()\n",
        "}\n",
        "\n",
        "# Loop through each model, train and evaluate\n",
        "for name, model in process.items():\n",
        "    model.fit(X_train, y_train)  # Train the model\n",
        "    accuracy = model.score(X_test, y_test)  # Calculate accuracy on test set\n",
        "    print(f\" {name} Accuracy:\", accuracy)"
      ],
      "metadata": {
        "id": "shrIn8fcVaF1"
      },
      "execution_count": null,
      "outputs": []
    },
    {
      "cell_type": "code",
      "source": [
        "#Train and Evaluate Gaussian Naive Bayes Model"
      ],
      "metadata": {
        "id": "EWZeSYz4Vcde"
      },
      "execution_count": null,
      "outputs": []
    },
    {
      "cell_type": "code",
      "source": [
        "# Initializing the Gaussian Naive Bayes classifier\n",
        "model_1 = GaussianNB()\n",
        "\n",
        "# Training the model on the training data\n",
        "X_train_G = model_1.fit(X_train, y_train)\n",
        "\n",
        "# Predicting the target values on the test set\n",
        "y_pred_g = model_1.predict(X_test)\n",
        "\n",
        "#  Evaluating the model\n",
        "# Printing a detailed classification report (precision, recall, f1-score)\n",
        "print(\"Classification Report for GaussianNB:\\n\")\n",
        "print(classification_report(y_test, y_pred_g))\n",
        "\n",
        "# Printing the overall accuracy score\n",
        "print(\" Accuracy Score:\", accuracy_score(y_test, y_pred_g))"
      ],
      "metadata": {
        "id": "fGYNamE2VhQd"
      },
      "execution_count": null,
      "outputs": []
    },
    {
      "cell_type": "code",
      "source": [
        "#Confusion Matrix Heatmap for GaussianNB"
      ],
      "metadata": {
        "id": "_4B2_4DMVoqm"
      },
      "execution_count": null,
      "outputs": []
    },
    {
      "cell_type": "code",
      "source": [
        "# Creating a figure with specific size\n",
        "plt.figure(figsize=(12, 8))\n",
        "\n",
        "# Plotting the heatmap of the confusion matrix\n",
        "sns.heatmap(confusion_matrix(y_test, y_pred_g), annot=True, fmt='d', cmap='Blues')\n",
        "\n",
        "# Adding labels and title\n",
        "plt.title(\" Confusion Matrix - Gaussian Naive Bayes\")\n",
        "plt.xlabel(\"Predicted Labels\")\n",
        "plt.ylabel(\"True Labels\")\n",
        "plt.show()"
      ],
      "metadata": {
        "id": "Kcv5qIQvVtaV"
      },
      "execution_count": null,
      "outputs": []
    },
    {
      "cell_type": "code",
      "source": [
        "#Train and Evaluate Multinomial Naive Bayes Model"
      ],
      "metadata": {
        "id": "-ZCHH9iIVvXF"
      },
      "execution_count": null,
      "outputs": []
    },
    {
      "cell_type": "code",
      "source": [
        "# Initializing the Multinomial Naive Bayes classifier\n",
        "model_2 = MultinomialNB()\n",
        "\n",
        "# Training the model using training data\n",
        "X_train_m = model_2.fit(X_train, y_train)\n",
        "\n",
        "# Predicting test set results\n",
        "y_pred_m = model_2.predict(X_test)\n",
        "\n",
        "#  Evaluating the model\n",
        "print(\" Classification Report for MultinomialNB:\\n\")\n",
        "print(classification_report(y_test, y_pred_m))\n",
        "\n",
        "# Displaying overall accuracy\n",
        "print(\" Accuracy Score:\", accuracy_score(y_test, y_pred_m))"
      ],
      "metadata": {
        "id": "eItph_LpVyaV"
      },
      "execution_count": null,
      "outputs": []
    },
    {
      "cell_type": "code",
      "source": [
        "#Confusion Matrix Heatmap for MultinomialNB"
      ],
      "metadata": {
        "id": "B5yoUU18V1G9"
      },
      "execution_count": null,
      "outputs": []
    },
    {
      "cell_type": "code",
      "source": [
        "# Fix: use plt.figure() instead of plt.Figure()\n",
        "plt.figure(figsize=(12, 8))\n",
        "\n",
        "# Create the heatmap for the confusion matrix\n",
        "sns.heatmap(confusion_matrix(y_test, y_pred_m), annot=True, fmt='d', cmap='Blues')\n",
        "\n",
        "# Add titles and axis labels\n",
        "plt.title(\" Confusion Matrix - Multinomial Naive Bayes\")\n",
        "plt.xlabel(\"Predicted Labels\")\n",
        "plt.ylabel(\"True Labels\")\n",
        "plt.show()"
      ],
      "metadata": {
        "id": "Sd3HPPaZV6c2"
      },
      "execution_count": null,
      "outputs": []
    },
    {
      "cell_type": "code",
      "source": [
        "#Train and Evaluate Bernoulli Naive Bayes Model"
      ],
      "metadata": {
        "id": "l9UNuTJSV8Qm"
      },
      "execution_count": null,
      "outputs": []
    },
    {
      "cell_type": "code",
      "source": [
        "# Initializing the Bernoulli Naive Bayes classifier\n",
        "model_3 = BernoulliNB()\n",
        "\n",
        "# Training the model with training data\n",
        "X_train_b = model_3.fit(X_train, y_train)\n",
        "\n",
        "# Predicting labels on the test data\n",
        "y_pred_b = model_3.predict(X_test)\n",
        "\n",
        "# Evaluating the model\n",
        "print(\" Classification Report for BernoulliNB:\\n\")\n",
        "print(classification_report(y_test, y_pred_b))\n",
        "\n",
        "# Displaying overall accuracy\n",
        "print(\" Accuracy Score:\", accuracy_score(y_test, y_pred_b))"
      ],
      "metadata": {
        "id": "w_AEXVLzWBGG"
      },
      "execution_count": null,
      "outputs": []
    },
    {
      "cell_type": "code",
      "source": [
        "#Confusion Matrix Heatmap for BernoulliNB"
      ],
      "metadata": {
        "id": "L8uNob27WJ8m"
      },
      "execution_count": null,
      "outputs": []
    },
    {
      "cell_type": "code",
      "source": [
        "# Corrected: Use plt.figure instead of plt.Figure\n",
        "plt.figure(figsize=(12, 8))\n",
        "\n",
        "# Plot the heatmap for confusion matrix\n",
        "sns.heatmap(confusion_matrix(y_test, y_pred_b), annot=True, fmt='d', cmap='Blues')\n",
        "\n",
        "# Add titles and axis labels\n",
        "plt.title(\" Confusion Matrix - Bernoulli Naive Bayes\")\n",
        "plt.xlabel(\"Predicted Labels\")\n",
        "plt.ylabel(\"True Labels\")\n",
        "plt.show()"
      ],
      "metadata": {
        "id": "VL0ADKPyWST-"
      },
      "execution_count": null,
      "outputs": []
    }
  ]
}